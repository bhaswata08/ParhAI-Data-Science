{
 "cells": [
  {
   "cell_type": "markdown",
   "id": "c34f003e-1f2c-47df-8bf5-a16996ac7e06",
   "metadata": {},
   "source": [
    "# Myths of Data Science\n",
    "\n",
    "### Myth #1: Machine does everthing \n",
    "![img](https://i.imgur.com/c98nIC7.png)\n",
    " \n",
    " \n",
    "### Myth #2: DS requires Big data and DL\n",
    "![img](https://i.imgur.com/NuUUdGM.png)\n",
    "\n",
    "### Myth #3: DS is always sucessful\n",
    "![img](https://i.imgur.com/oRkPMwT.png)\n",
    "\n",
    "\"If the **right amount** of **clean usable data** is available, if **skilled data scientists** with **technical and domain knowledge** are available, and if the organization has the **capacity and resources to act on the insights** generated from the data then DS can be sucessful and impactful\""
   ]
  },
  {
   "cell_type": "markdown",
   "id": "72e683b7-b932-4ca2-a9c4-0f8528fbb848",
   "metadata": {},
   "source": [
    "# The path to data science\n",
    "![img](https://i.imgur.com/1ccJNf6.png)"
   ]
  },
  {
   "cell_type": "code",
   "execution_count": null,
   "id": "ea5b986b-9f08-42a4-b0bb-ec8b5d700415",
   "metadata": {},
   "outputs": [],
   "source": []
  }
 ],
 "metadata": {
  "kernelspec": {
   "display_name": "Python 3 (ipykernel)",
   "language": "python",
   "name": "python3"
  },
  "language_info": {
   "codemirror_mode": {
    "name": "ipython",
    "version": 3
   },
   "file_extension": ".py",
   "mimetype": "text/x-python",
   "name": "python",
   "nbconvert_exporter": "python",
   "pygments_lexer": "ipython3",
   "version": "3.9.12"
  }
 },
 "nbformat": 4,
 "nbformat_minor": 5
}
