{
 "cells": [
  {
   "cell_type": "markdown",
   "id": "aa8d30c5-233f-440f-8034-6bfdd184730d",
   "metadata": {},
   "source": [
    "# Introduction"
   ]
  },
  {
   "cell_type": "markdown",
   "id": "99c48333-1497-4d5a-a384-b0bc7946a1f1",
   "metadata": {},
   "source": [
    "### Learning Objectives"
   ]
  },
  {
   "cell_type": "markdown",
   "id": "dc3eac58-7d8c-4db3-b119-0138b98ec0e2",
   "metadata": {},
   "source": [
    "1. What exactly is Data Science?\n",
    "2. Why is it such a sought after job description?\n",
    "3. What does a Data Scientist actually do?\n",
    "4. How important are the mathematics and programming skills for a data scientist?\n",
    "5. How does Data Science relate to other buzz words such as ML, DL, AI and DM?\n",
    "6. What are some common misconceptions about Data Science?"
   ]
  },
  {
   "cell_type": "markdown",
   "id": "fc777d86-fe62-4973-9414-4fa79573b13b",
   "metadata": {},
   "source": [
    "# What is Data Science?"
   ]
  },
  {
   "cell_type": "markdown",
   "id": "11487eb4-9fba-41c7-aedb-abf24b5a33c8",
   "metadata": {},
   "source": [
    "Why are there multiple confusing definitions?\n",
    "\n",
    "* Assortment of several tasks\n",
    "* Attention on tasks depends on application\n",
    "\n",
    "What are these tasks?\n",
    "\n",
    "![img](https://i.imgur.com/g9aF6Rs.png)\n",
    "\n",
    "So what is Data Science?\n",
    "* Data science is the science of collecting, storing, processing, describing and modelling data "
   ]
  },
  {
   "cell_type": "markdown",
   "id": "29d7d291-4042-41bb-93e8-1f19310cc828",
   "metadata": {},
   "source": [
    "## Collecting Data"
   ]
  },
  {
   "cell_type": "markdown",
   "id": "da35680f-9d7b-49ed-aea4-a98ab07fb2bd",
   "metadata": {},
   "source": [
    "What is involved in data collection?\n",
    "* depends on the question a data scientist is trying to answer\n",
    "* depends on the environment in which the data scientist is working\n",
    "\n",
    "A data Scientist at an e-commerce company :\n",
    "\n",
    "![img](https://i.imgur.com/MVkRM0g.png)\n",
    "\n",
    "A data scientist working for a political party :\n",
    "\n",
    "![img](https://i.imgur.com/8fa1swu.png)\n",
    "\n",
    "A Data scientist working with farmers :\n",
    "\n",
    "![](https://i.imgur.com/cOoo0ik.png)\n",
    "\n",
    "Skills required\n",
    "* Intermediate level programming\n",
    "* Knowledge of Databases\n",
    "* Knowledge of Statistics"
   ]
  },
  {
   "cell_type": "markdown",
   "id": "026cc60b-a507-46c5-91fc-9ed7a4e06015",
   "metadata": {},
   "source": [
    "## Storing data"
   ]
  },
  {
   "cell_type": "markdown",
   "id": "60fb8e61-d08c-491f-bf50-d42d18e77563",
   "metadata": {},
   "source": [
    "1. Transactional and Operational data\n",
    "\n",
    "* patient records   \n",
    "* insurance claims\n",
    "* Inventory\n",
    "* Customer Records\n",
    "* Telephone bills\n",
    "* invoices\n",
    "* Employee records\n",
    "* reimbursements\n",
    "* purchase orders\n",
    "\n",
    "![img](https://i.imgur.com/rjGkMnj.png)\n",
    "\n",
    "2. Data from multiple databases\n",
    "\n",
    "![img](https://i.imgur.com/fkFWlRp.png)\n",
    "\n",
    "3. Unstructed Data\n",
    "\n",
    "![img](https://i.imgur.com/JXINJAb.png)\n",
    "\n",
    "* High volume\n",
    "* High variety\n",
    "* High velocity\n",
    "\n",
    "### Summary\n",
    "\n",
    "![img](https://i.imgur.com/v8dK8Fd.png)\n",
    "\n",
    "\n",
    "Skills required\n",
    "* Programming and engineering\n",
    "* Knowledge of relational databases\n",
    "* Knowledge of NoSQL Databases (json, xml)\n",
    "* Knowledge of Data Warehouses\n",
    "* Knowledge of Data Lakes(Hadoop)"
   ]
  },
  {
   "cell_type": "markdown",
   "id": "7f86fdf5-aee0-436b-8af8-ad2c413f4157",
   "metadata": {},
   "source": [
    "## Processing Data"
   ]
  },
  {
   "cell_type": "markdown",
   "id": "df8e2312-21ac-4726-b54d-703264142987",
   "metadata": {},
   "source": [
    "1. Data Wrangling or Data Munging\n",
    "\n",
    "![img](https://i.imgur.com/1iQ4JDt.png)\n",
    "\n",
    "2. Data Cleaning\n",
    "* Fill missing values\n",
    "* Standardise keyword tags\n",
    "* Correct spelling errors\n",
    "* identify and remove outliers\n",
    "\n",
    "3. Data Scaling, Normalizing and Standardizing\n",
    "\n",
    "![img](https://i.imgur.com/zm2DQ61.png)\n",
    "\n",
    "#### Big data\n",
    "\"If data processing is to be performed on `Big Data` with millions of data items then performance becomes a key consideration\"\n",
    "\n",
    "![img](https://i.imgur.com/RC7rhS0.png)\n",
    "\n",
    "Skills required\n",
    "* programming skills\n",
    "* map reduce(Hadoop)\n",
    "* SQL and NoSQL Databases\n",
    "* Basic Statistics"
   ]
  },
  {
   "cell_type": "markdown",
   "id": "dc5844c5-03e7-4048-a3f6-72357b4b0f96",
   "metadata": {},
   "source": [
    "## Describing Data"
   ]
  },
  {
   "cell_type": "markdown",
   "id": "0b9d3a71-6de7-4e1a-be3e-8d6d9afcd773",
   "metadata": {},
   "source": [
    "1. Visualizing Data\n",
    "\n",
    "![img](https://i.imgur.com/37Eb9KS.png)\n",
    "\n",
    "2. Summarizing data\n",
    "\n",
    "![img](https://i.imgur.com/XTDiWrb.png)\n",
    "\n",
    "* What is the typical no. of TVs sold daily?\n",
    "> * Mean\n",
    "> * Median\n",
    "> * Mode\n",
    "\n",
    "* What is the typical variation in no.s of TVs sold daily?\n",
    "> * stdev\n",
    "> * Variance\n",
    "\n",
    "Visualizing and summarizing data forms a part of `descriptive statistics`\n",
    "* Iterative process\n",
    "* Exploratory Data Analysis\n",
    "\n",
    "Skills required\n",
    "* Stats\n",
    "* Excel\n",
    "* Python\n",
    "* R\n",
    "* Tableau"
   ]
  },
  {
   "cell_type": "markdown",
   "id": "b7b200da-bff8-443f-9a64-4d900113311d",
   "metadata": {},
   "source": [
    "## Modelling Data"
   ]
  },
  {
   "cell_type": "markdown",
   "id": "614fa0f4-eaa9-484e-b4de-ddc5f3074d1b",
   "metadata": {},
   "source": [
    "### Statistical Modelling : Underlying Data Distribution\n",
    "\n",
    "![img](https://i.imgur.com/Fx1A8xk.png)\n",
    "\n",
    "* In stastical modelling, we assumed simple models which allowed robust stastical analysis\n",
    "* Give stastical guarantees(p-values, goodness-of-fit tests)\n",
    "\n",
    "![img](https://i.imgur.com/3BAlNCX.png)\n",
    "\n",
    "*Statistical modelling*\n",
    "* Modelling underlying data distribution\n",
    "* modelling underlying relations in data\n",
    "* formulate and test hypothesis\n",
    "* Give statistical guarantees(p-values, goodness-of-fit tests)"
   ]
  },
  {
   "cell_type": "markdown",
   "id": "d93e4b7d-5e67-4d2b-aae1-3e6a4efb9a83",
   "metadata": {},
   "source": [
    "### Algorithmic modelling\n",
    "\n",
    "![img](https://i.imgur.com/LeOQ9pj.png)\n",
    "\n",
    "* Estimate data using optimization techniques\n",
    "* For a new patient, plug-in the value of x to get y\n",
    "* Focus on prediction(dont care about the underlying phenomenoa)\n",
    "\n",
    "\n",
    "![img](https://i.imgur.com/YUavCPz.png)\n",
    "\n",
    "![img](https://i.imgur.com/qtMgJ0N.png)\n",
    "\n",
    "Skills required\n",
    "* Inferential stats\n",
    "* Prob theory\n",
    "* Calculus\n",
    "* Optimization algos\n",
    "* ml and dl \n",
    "* Python packages and frameworks (numpy, scipy, scikit-learn, TF, Keras, Pytorch)"
   ]
  }
 ],
 "metadata": {
  "kernelspec": {
   "display_name": "Python 3 (ipykernel)",
   "language": "python",
   "name": "python3"
  },
  "language_info": {
   "codemirror_mode": {
    "name": "ipython",
    "version": 3
   },
   "file_extension": ".py",
   "mimetype": "text/x-python",
   "name": "python",
   "nbconvert_exporter": "python",
   "pygments_lexer": "ipython3",
   "version": "3.9.12"
  }
 },
 "nbformat": 4,
 "nbformat_minor": 5
}
