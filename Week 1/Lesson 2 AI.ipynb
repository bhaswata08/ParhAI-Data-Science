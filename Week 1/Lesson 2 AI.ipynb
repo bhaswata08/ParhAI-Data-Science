{
 "cells": [
  {
   "cell_type": "markdown",
   "id": "ef9578da-d2b7-4a92-90de-491a8bfd9e34",
   "metadata": {},
   "source": [
    "# AI\n",
    "\n",
    "* Ai is about building systems or agents that demonstrate \"intelligence\"\n",
    "\n",
    "![img](https://i.imgur.com/g7nRMLA.png)"
   ]
  },
  {
   "cell_type": "markdown",
   "id": "51b81298-d200-4975-8551-0a0b25d8d6fd",
   "metadata": {},
   "source": [
    "### Problem Solving\n",
    "![img](https://i.imgur.com/zuKgcTw.png)"
   ]
  },
  {
   "cell_type": "markdown",
   "id": "01e5dc75-2163-4269-8fae-b52edab88708",
   "metadata": {},
   "source": [
    "### Knowledge representation and reasoning\n",
    "\n",
    "* No data\n",
    "* Knowledge Representation and reasoning using FOL and propositional logic\n"
   ]
  },
  {
   "cell_type": "markdown",
   "id": "f9c59be2-8802-414f-b3a1-a7d28d863938",
   "metadata": {},
   "source": [
    "### Decision making\n",
    "\n",
    "> **Expert Systems**\n",
    "     \n",
    ">![img](https://i.imgur.com/UZlPe52.png)\n",
    "Very precise and 100% sure\n",
    "\n",
    "> Limitations of Expert systems\n",
    "> * Rules may be too complex\n",
    "> * Rules may be inexpressible\n",
    "> * Rules may be unknown\n",
    "\n",
    "Alterative approach: Learn from large amounts of data a.k.a machine learning\n",
    "\n",
    "**Machine Learning**\n",
    "\n",
    "![img](https://i.imgur.com/OcizEme.png)\n",
    "\n",
    "* Estimate *f* using data, optimization techniques\n",
    "* For a new patient plug in the values of x and get y\n",
    "\n",
    "**Reinforcement learning**\n",
    "\n",
    "![img](https://i.imgur.com/ftdEaqd.png)\n",
    "\n",
    "\n",
    "\n",
    "\n",
    "\n",
    "\n",
    "\n",
    "\n",
    "* **Machine learning**\n",
    "\n",
    "* **Deep learning**\n",
    "\n",
    "* **Reinforcement learning**\n",
    "\n",
    "\"This data-driven part of AI intersects with the world of Data science\""
   ]
  },
  {
   "cell_type": "markdown",
   "id": "2179d0bc-6f4c-4002-8f85-122486e68344",
   "metadata": {},
   "source": [
    "### Communication, perception and actuation\n",
    "\n",
    "* Communicate using language\n",
    "\n",
    "> NLP using :\n",
    "> * Natural language Understanding\n",
    "> * natural language generation\n",
    "> ![img](https://i.imgur.com/NHifYGB.png)\n",
    "\n",
    "* Perception using Vision, Speech\n",
    "\n",
    "> * Computer vision\n",
    "> * Speech technology\n",
    "> ![img](https://i.imgur.com/Bu4Oq8d.png)\n",
    "\n",
    "* Actuaction with physical robots\n",
    "\n",
    "> * Robotics\n",
    "> * RL\n",
    "> \"Increasingly data-driven wherin robots can learn to perform complex actuations by learning from simulations or by mimicking human examples\"\n",
    "\n",
    "![img](https://i.imgur.com/jXNEzHW.png)\n",
    "\n",
    "![img](https://i.imgur.com/ZReOd6m.png)"
   ]
  }
 ],
 "metadata": {
  "kernelspec": {
   "display_name": "Python 3 (ipykernel)",
   "language": "python",
   "name": "python3"
  },
  "language_info": {
   "codemirror_mode": {
    "name": "ipython",
    "version": 3
   },
   "file_extension": ".py",
   "mimetype": "text/x-python",
   "name": "python",
   "nbconvert_exporter": "python",
   "pygments_lexer": "ipython3",
   "version": "3.9.12"
  }
 },
 "nbformat": 4,
 "nbformat_minor": 5
}
