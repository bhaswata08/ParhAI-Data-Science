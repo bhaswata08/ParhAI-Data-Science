{
 "cells": [
  {
   "cell_type": "markdown",
   "id": "fabce723-e351-4264-bfd1-c6a0a631bc12",
   "metadata": {},
   "source": [
    "# Printing basic types"
   ]
  },
  {
   "cell_type": "code",
   "execution_count": 1,
   "id": "7f31f76e-bd25-4829-986e-f17a213eb32c",
   "metadata": {},
   "outputs": [
    {
     "name": "stdout",
     "output_type": "stream",
     "text": [
      "Hello World!\n"
     ]
    }
   ],
   "source": [
    "print(\"Hello World!\")"
   ]
  },
  {
   "cell_type": "code",
   "execution_count": 3,
   "id": "f44d256e-a86b-4210-aef2-8567800e5cb7",
   "metadata": {},
   "outputs": [
    {
     "name": "stdout",
     "output_type": "stream",
     "text": [
      "Hello World!\n"
     ]
    }
   ],
   "source": [
    "#Concatenation operator\n",
    "print(\"Hello \" + \"World!\")"
   ]
  },
  {
   "cell_type": "code",
   "execution_count": 4,
   "id": "8a302441-66a1-4afa-95b8-8fb03f51e3df",
   "metadata": {},
   "outputs": [
    {
     "name": "stdout",
     "output_type": "stream",
     "text": [
      "1729\n"
     ]
    }
   ],
   "source": [
    "print(1729) #Ramanujan Hardy number"
   ]
  },
  {
   "cell_type": "code",
   "execution_count": 5,
   "id": "cf278afd-8101-4d86-a5d4-96ed1d8e1537",
   "metadata": {},
   "outputs": [
    {
     "name": "stdout",
     "output_type": "stream",
     "text": [
      "1729\n"
     ]
    }
   ],
   "source": [
    "print(1000 + 729)"
   ]
  },
  {
   "cell_type": "code",
   "execution_count": 6,
   "id": "0ac62982-b36c-4dc6-9925-8deb3d9e9d62",
   "metadata": {},
   "outputs": [],
   "source": [
    "# \"#\" statements are for comments"
   ]
  },
  {
   "cell_type": "code",
   "execution_count": 7,
   "id": "a64d5673-3ea1-4b4b-bb2b-c9b6a3bfe9cd",
   "metadata": {},
   "outputs": [
    {
     "name": "stdout",
     "output_type": "stream",
     "text": [
      "1.6176470588235294\n"
     ]
    }
   ],
   "source": [
    "print(55/34) # Check golden ratio"
   ]
  },
  {
   "cell_type": "code",
   "execution_count": 1,
   "id": "1d0f0903-242c-4fca-ad05-d586c7f737c2",
   "metadata": {},
   "outputs": [
    {
     "name": "stdout",
     "output_type": "stream",
     "text": [
      "1.618\n"
     ]
    }
   ],
   "source": [
    "print(1.618)"
   ]
  },
  {
   "cell_type": "code",
   "execution_count": 3,
   "id": "9a0eb00c-7d77-4f40-a38e-7ab690da617b",
   "metadata": {},
   "outputs": [
    {
     "name": "stdout",
     "output_type": "stream",
     "text": [
      "True\n",
      "False\n"
     ]
    }
   ],
   "source": [
    "print(True)\n",
    "print(False)"
   ]
  },
  {
   "cell_type": "code",
   "execution_count": 4,
   "id": "b26fdb43-30d3-4643-9494-396b83a3208c",
   "metadata": {},
   "outputs": [
    {
     "name": "stdout",
     "output_type": "stream",
     "text": [
      "True\n",
      "False\n"
     ]
    }
   ],
   "source": [
    "print(True or False)\n",
    "print(True and False)"
   ]
  },
  {
   "cell_type": "markdown",
   "id": "18565e99-0271-4083-9adb-24d3671e1ac4",
   "metadata": {},
   "source": [
    "# Variables and Inputs"
   ]
  },
  {
   "cell_type": "code",
   "execution_count": 10,
   "id": "09fb1d31-98b6-493f-8bc0-fd61681fbe1b",
   "metadata": {},
   "outputs": [],
   "source": [
    "school = \"PadhAI\""
   ]
  },
  {
   "cell_type": "code",
   "execution_count": 11,
   "id": "d4c49f71-4071-45de-b091-76a16ff4c375",
   "metadata": {},
   "outputs": [
    {
     "name": "stdout",
     "output_type": "stream",
     "text": [
      "PadhAI\n"
     ]
    }
   ],
   "source": [
    "print(school)"
   ]
  },
  {
   "cell_type": "code",
   "execution_count": 12,
   "id": "2f19aa89-1b35-43a2-9079-4c850bda0d01",
   "metadata": {},
   "outputs": [
    {
     "name": "stdout",
     "output_type": "stream",
     "text": [
      "<class 'str'>\n"
     ]
    }
   ],
   "source": [
    "print(type(school))"
   ]
  },
  {
   "cell_type": "code",
   "execution_count": 13,
   "id": "09dc591e-2bf1-4068-b640-099839572887",
   "metadata": {},
   "outputs": [
    {
     "name": "stdout",
     "output_type": "stream",
     "text": [
      "2616001666032\n"
     ]
    }
   ],
   "source": [
    "print(id(school))"
   ]
  },
  {
   "cell_type": "code",
   "execution_count": 14,
   "id": "a0d87d54-e1ef-43f6-a86f-a3b7964eb9fa",
   "metadata": {},
   "outputs": [],
   "source": [
    "another_school = \"PadhAI\""
   ]
  },
  {
   "cell_type": "code",
   "execution_count": 16,
   "id": "6a0140aa-3741-454b-8a56-f877c0c66a1a",
   "metadata": {},
   "outputs": [
    {
     "name": "stdout",
     "output_type": "stream",
     "text": [
      "PadhAI\n"
     ]
    }
   ],
   "source": [
    "print(another_school)"
   ]
  },
  {
   "cell_type": "code",
   "execution_count": 17,
   "id": "b107202b-3b14-4fb3-9b95-2fa3010bcaf5",
   "metadata": {},
   "outputs": [
    {
     "name": "stdout",
     "output_type": "stream",
     "text": [
      "2616001666032\n"
     ]
    }
   ],
   "source": [
    "print(id(another_school))"
   ]
  },
  {
   "cell_type": "code",
   "execution_count": 18,
   "id": "ed13b7ff-82ec-4500-917f-f5e591f8cd4d",
   "metadata": {},
   "outputs": [],
   "source": [
    "another_school = \"IIT Madras\""
   ]
  },
  {
   "cell_type": "code",
   "execution_count": 20,
   "id": "6d0a78da-6df9-4f49-bee2-edb7191d6b7e",
   "metadata": {},
   "outputs": [
    {
     "name": "stdout",
     "output_type": "stream",
     "text": [
      "2616000285616\n"
     ]
    }
   ],
   "source": [
    "print(id(another_school))"
   ]
  },
  {
   "cell_type": "code",
   "execution_count": 21,
   "id": "fe4352f8-2f1b-4e5e-8367-a99ea5a89696",
   "metadata": {},
   "outputs": [
    {
     "name": "stdout",
     "output_type": "stream",
     "text": [
      "I am studying at PadhAI\n"
     ]
    }
   ],
   "source": [
    "print(\"I am studying at \" + school)"
   ]
  },
  {
   "cell_type": "markdown",
   "id": "14a06d90-17a2-4a52-8276-ecf6cf7188cc",
   "metadata": {},
   "source": [
    "# Integers, Floating Points, Boolean types & Input"
   ]
  },
  {
   "cell_type": "code",
   "execution_count": 22,
   "id": "4c2a36fd-1aa7-4e0a-84c0-7386df216ecb",
   "metadata": {},
   "outputs": [],
   "source": [
    "r_no = 1729"
   ]
  },
  {
   "cell_type": "code",
   "execution_count": 23,
   "id": "36333c7b-a8b3-461c-89b6-c7ac7bab11f1",
   "metadata": {},
   "outputs": [
    {
     "name": "stdout",
     "output_type": "stream",
     "text": [
      "<class 'int'>\n"
     ]
    }
   ],
   "source": [
    "print(type(r_no))"
   ]
  },
  {
   "cell_type": "code",
   "execution_count": 24,
   "id": "c67212a4-3f4f-442b-be97-2a4bf8fd8c73",
   "metadata": {},
   "outputs": [],
   "source": [
    "golden_ratio = 55/34"
   ]
  },
  {
   "cell_type": "code",
   "execution_count": 25,
   "id": "04aa54bd-51cf-49ce-af60-47d236352fd0",
   "metadata": {},
   "outputs": [
    {
     "name": "stdout",
     "output_type": "stream",
     "text": [
      "<class 'float'>\n"
     ]
    }
   ],
   "source": [
    "print(type(golden_ratio))"
   ]
  },
  {
   "cell_type": "code",
   "execution_count": 26,
   "id": "0cf06ccc-56b5-46d3-9f0b-4ec27bac8afc",
   "metadata": {},
   "outputs": [],
   "source": [
    "is_good = True"
   ]
  },
  {
   "cell_type": "code",
   "execution_count": 27,
   "id": "cd8f2a9e-2920-46bf-9d3a-2dab21e3b426",
   "metadata": {},
   "outputs": [
    {
     "name": "stdout",
     "output_type": "stream",
     "text": [
      "<class 'bool'>\n"
     ]
    }
   ],
   "source": [
    "print(type(is_good))"
   ]
  },
  {
   "cell_type": "code",
   "execution_count": 28,
   "id": "a84fb4de-9e52-4d43-b574-41e3d4179e7a",
   "metadata": {},
   "outputs": [
    {
     "name": "stdin",
     "output_type": "stream",
     "text": [
      "What is your name? Bhaswata Choudhury\n"
     ]
    }
   ],
   "source": [
    "my_name = input(\"What is your name?\")"
   ]
  },
  {
   "cell_type": "code",
   "execution_count": 29,
   "id": "4a788142-1e31-449f-9548-adaefdc3b34c",
   "metadata": {},
   "outputs": [
    {
     "name": "stdout",
     "output_type": "stream",
     "text": [
      "Bhaswata Choudhury <class 'str'>\n"
     ]
    }
   ],
   "source": [
    "print(my_name, type(my_name))"
   ]
  },
  {
   "cell_type": "code",
   "execution_count": 31,
   "id": "989067f7-56f6-4bae-a27e-b809812af143",
   "metadata": {},
   "outputs": [
    {
     "name": "stdout",
     "output_type": "stream",
     "text": [
      "Bhaswata Choudhury is studying at PadhAI\n"
     ]
    }
   ],
   "source": [
    "print(my_name + \" is studying at \" + school)"
   ]
  },
  {
   "cell_type": "code",
   "execution_count": 47,
   "id": "0b1fc16b-bdcc-4673-8f24-29b1b074ead2",
   "metadata": {},
   "outputs": [
    {
     "name": "stdin",
     "output_type": "stream",
     "text": [
      "How many hours per day do you study? 2.5\n"
     ]
    }
   ],
   "source": [
    "hours_per_day = input(\"How many hours per day do you study?\")"
   ]
  },
  {
   "cell_type": "code",
   "execution_count": 38,
   "id": "5c008a84-be53-48e1-bb60-b0a73bdb425f",
   "metadata": {},
   "outputs": [
    {
     "name": "stdout",
     "output_type": "stream",
     "text": [
      "Bhaswata Choudhury studies for 1 hours\n"
     ]
    }
   ],
   "source": [
    "print(my_name + \" studies for \" + hours_per_day + \" hours\")"
   ]
  },
  {
   "cell_type": "code",
   "execution_count": 35,
   "id": "45c5f7f2-f82e-4777-b30d-995298fc8c76",
   "metadata": {},
   "outputs": [],
   "source": [
    "hours_per_week = hours_per_day * 7"
   ]
  },
  {
   "cell_type": "code",
   "execution_count": 39,
   "id": "33c8c9db-88aa-494c-a1b1-329ddca9114d",
   "metadata": {},
   "outputs": [
    {
     "name": "stdout",
     "output_type": "stream",
     "text": [
      "Bhaswata Choudhury studies for 1111111 hours\n"
     ]
    }
   ],
   "source": [
    "print(my_name + \" studies for \" + hours_per_week + \" hours\")"
   ]
  },
  {
   "cell_type": "code",
   "execution_count": 40,
   "id": "69a975c2-41ad-41fe-80dd-604e9cc3fe14",
   "metadata": {},
   "outputs": [
    {
     "name": "stdout",
     "output_type": "stream",
     "text": [
      "<class 'str'>\n"
     ]
    }
   ],
   "source": [
    "print(type(hours_per_day))"
   ]
  },
  {
   "cell_type": "code",
   "execution_count": 48,
   "id": "f86e1e8a-9190-4e81-a097-f73d0edb9d2c",
   "metadata": {},
   "outputs": [
    {
     "ename": "ValueError",
     "evalue": "invalid literal for int() with base 10: '2.5'",
     "output_type": "error",
     "traceback": [
      "\u001b[1;31m---------------------------------------------------------------------------\u001b[0m",
      "\u001b[1;31mValueError\u001b[0m                                Traceback (most recent call last)",
      "Cell \u001b[1;32mIn[48], line 1\u001b[0m\n\u001b[1;32m----> 1\u001b[0m hours_per_day \u001b[38;5;241m=\u001b[39m \u001b[38;5;28;43mint\u001b[39;49m\u001b[43m(\u001b[49m\u001b[43mhours_per_day\u001b[49m\u001b[43m)\u001b[49m\n",
      "\u001b[1;31mValueError\u001b[0m: invalid literal for int() with base 10: '2.5'"
     ]
    }
   ],
   "source": [
    "hours_per_day = int(hours_per_day)"
   ]
  },
  {
   "cell_type": "code",
   "execution_count": 42,
   "id": "b2c088b0-68ab-4b7e-a3b9-c816b48e1794",
   "metadata": {},
   "outputs": [
    {
     "name": "stdout",
     "output_type": "stream",
     "text": [
      "1 <class 'int'>\n"
     ]
    }
   ],
   "source": [
    "print(hours_per_day, type(hours_per_day))"
   ]
  },
  {
   "cell_type": "code",
   "execution_count": 43,
   "id": "278c9847-75b6-4b0c-ace5-19ddee324da0",
   "metadata": {},
   "outputs": [],
   "source": [
    "hours_per_week = hours_per_day * 7"
   ]
  },
  {
   "cell_type": "code",
   "execution_count": 44,
   "id": "936c7d48-c842-44da-84f8-ec26743572fd",
   "metadata": {},
   "outputs": [
    {
     "ename": "TypeError",
     "evalue": "can only concatenate str (not \"int\") to str",
     "output_type": "error",
     "traceback": [
      "\u001b[1;31m---------------------------------------------------------------------------\u001b[0m",
      "\u001b[1;31mTypeError\u001b[0m                                 Traceback (most recent call last)",
      "Cell \u001b[1;32mIn[44], line 1\u001b[0m\n\u001b[1;32m----> 1\u001b[0m \u001b[38;5;28mprint\u001b[39m(\u001b[43mmy_name\u001b[49m\u001b[43m \u001b[49m\u001b[38;5;241;43m+\u001b[39;49m\u001b[43m \u001b[49m\u001b[38;5;124;43m\"\u001b[39;49m\u001b[38;5;124;43m studies for \u001b[39;49m\u001b[38;5;124;43m\"\u001b[39;49m\u001b[43m \u001b[49m\u001b[38;5;241;43m+\u001b[39;49m\u001b[43m \u001b[49m\u001b[43mhours_per_week\u001b[49m \u001b[38;5;241m+\u001b[39m \u001b[38;5;124m\"\u001b[39m\u001b[38;5;124m hours\u001b[39m\u001b[38;5;124m\"\u001b[39m)\n",
      "\u001b[1;31mTypeError\u001b[0m: can only concatenate str (not \"int\") to str"
     ]
    }
   ],
   "source": [
    "print(my_name + \" studies for \" + hours_per_week + \" hours\")"
   ]
  },
  {
   "cell_type": "code",
   "execution_count": 51,
   "id": "1d807314-b593-41d1-b282-b7ade3c720c5",
   "metadata": {},
   "outputs": [
    {
     "name": "stdout",
     "output_type": "stream",
     "text": [
      "Bhaswata Choudhury studies for 7 hours\n"
     ]
    }
   ],
   "source": [
    "print(my_name + \" studies for \" + str(hours_per_week) + \" hours\")"
   ]
  },
  {
   "cell_type": "markdown",
   "id": "775a117c-ae68-49c8-83d1-55f07dfbfb5b",
   "metadata": {},
   "source": [
    "# String Processing"
   ]
  },
  {
   "cell_type": "code",
   "execution_count": 52,
   "id": "fef50f0f-c164-47dc-9255-dcc248ba6ec2",
   "metadata": {},
   "outputs": [],
   "source": [
    "topic = \"Foundations of Data Science\""
   ]
  },
  {
   "cell_type": "code",
   "execution_count": 54,
   "id": "1abf6f34-6db5-4bef-92ce-bd926acbe462",
   "metadata": {},
   "outputs": [
    {
     "name": "stdout",
     "output_type": "stream",
     "text": [
      "Foundations of Data Science\n"
     ]
    }
   ],
   "source": [
    "print(topic)"
   ]
  },
  {
   "cell_type": "code",
   "execution_count": 55,
   "id": "5dedbb22-0e2a-4cc9-8c89-7315417f257f",
   "metadata": {},
   "outputs": [
    {
     "name": "stdout",
     "output_type": "stream",
     "text": [
      "F\n"
     ]
    }
   ],
   "source": [
    "print(topic[0])"
   ]
  },
  {
   "cell_type": "code",
   "execution_count": 56,
   "id": "30790a01-6ec2-4661-af64-c7534457699d",
   "metadata": {},
   "outputs": [
    {
     "name": "stdout",
     "output_type": "stream",
     "text": [
      "o\n"
     ]
    }
   ],
   "source": [
    "print(topic[1])"
   ]
  },
  {
   "cell_type": "code",
   "execution_count": 57,
   "id": "ad335ae9-53f7-4a0c-996c-334f6c373293",
   "metadata": {},
   "outputs": [
    {
     "name": "stdout",
     "output_type": "stream",
     "text": [
      "s\n"
     ]
    }
   ],
   "source": [
    "print(topic[10])"
   ]
  },
  {
   "cell_type": "code",
   "execution_count": 58,
   "id": "a96c12b7-dc32-4263-a059-7aa78b3b763b",
   "metadata": {},
   "outputs": [
    {
     "name": "stdout",
     "output_type": "stream",
     "text": [
      "e\n"
     ]
    }
   ],
   "source": [
    "print(topic[-1])"
   ]
  },
  {
   "cell_type": "code",
   "execution_count": 59,
   "id": "a93d5d94-9f0f-4fc4-896d-276516372275",
   "metadata": {},
   "outputs": [
    {
     "name": "stdout",
     "output_type": "stream",
     "text": [
      "c\n"
     ]
    }
   ],
   "source": [
    "print(topic[-2])"
   ]
  },
  {
   "cell_type": "code",
   "execution_count": 60,
   "id": "2fed2b4e-cce2-4e8b-b988-024ca3b7b6c2",
   "metadata": {},
   "outputs": [
    {
     "name": "stdout",
     "output_type": "stream",
     "text": [
      "Foundation\n"
     ]
    }
   ],
   "source": [
    "print(topic[0:10])"
   ]
  },
  {
   "cell_type": "code",
   "execution_count": 62,
   "id": "3d4cc087-3dad-474f-a2d5-e5a3d4a1ff2c",
   "metadata": {},
   "outputs": [
    {
     "name": "stdout",
     "output_type": "stream",
     "text": [
      "Foundations of Data Science\n"
     ]
    }
   ],
   "source": [
    "print(topic[:])"
   ]
  },
  {
   "cell_type": "code",
   "execution_count": 64,
   "id": "add76af1-b581-4fe8-b5ac-80ae09d8ecf1",
   "metadata": {},
   "outputs": [
    {
     "name": "stdout",
     "output_type": "stream",
     "text": [
      "foundations of data science\n"
     ]
    }
   ],
   "source": [
    "print(topic.lower())"
   ]
  },
  {
   "cell_type": "code",
   "execution_count": 65,
   "id": "297a10ec-1a65-4f5c-9dbb-b971cf623017",
   "metadata": {},
   "outputs": [
    {
     "name": "stdout",
     "output_type": "stream",
     "text": [
      "Foundations of Data Science\n"
     ]
    }
   ],
   "source": [
    "print(topic)"
   ]
  },
  {
   "cell_type": "code",
   "execution_count": 66,
   "id": "41121d65-ed80-4bb0-aa8f-6536c64c6d66",
   "metadata": {},
   "outputs": [],
   "source": [
    "topic = topic.lower()"
   ]
  },
  {
   "cell_type": "code",
   "execution_count": 68,
   "id": "109bf9c1-696d-4d8c-994c-fd1e36cf0b51",
   "metadata": {},
   "outputs": [
    {
     "name": "stdout",
     "output_type": "stream",
     "text": [
      "foundations of data science\n"
     ]
    }
   ],
   "source": [
    "print(topic)"
   ]
  },
  {
   "cell_type": "code",
   "execution_count": 69,
   "id": "5d4fbcb7-20bf-49be-bd71-cc92cb71535e",
   "metadata": {},
   "outputs": [
    {
     "name": "stdout",
     "output_type": "stream",
     "text": [
      "FOUNDATIONS OF DATA SCIENCE\n"
     ]
    }
   ],
   "source": [
    "print(topic.upper())"
   ]
  },
  {
   "cell_type": "code",
   "execution_count": 71,
   "id": "26b345c3-6f6c-44f1-b854-3ec685754285",
   "metadata": {},
   "outputs": [
    {
     "name": "stdout",
     "output_type": "stream",
     "text": [
      "True\n"
     ]
    }
   ],
   "source": [
    "print(topic.islower())"
   ]
  },
  {
   "cell_type": "code",
   "execution_count": 74,
   "id": "a91b57dd-cb02-44e8-b188-36489d1c2ba8",
   "metadata": {},
   "outputs": [],
   "source": [
    "topic= topic.upper()"
   ]
  },
  {
   "cell_type": "code",
   "execution_count": 75,
   "id": "95875663-c255-4def-b9ff-ea401436837a",
   "metadata": {},
   "outputs": [
    {
     "name": "stdout",
     "output_type": "stream",
     "text": [
      "15\n"
     ]
    }
   ],
   "source": [
    "print(topic.find(\"DATA\"))"
   ]
  },
  {
   "cell_type": "code",
   "execution_count": 73,
   "id": "f7d33ac1-06e8-42f4-9dc7-56acc8158f52",
   "metadata": {},
   "outputs": [
    {
     "data": {
      "text/plain": [
       "-1"
      ]
     },
     "execution_count": 73,
     "metadata": {},
     "output_type": "execute_result"
    }
   ],
   "source": [
    "topic.find('ai')"
   ]
  },
  {
   "cell_type": "code",
   "execution_count": 76,
   "id": "f033a336-3dc1-4006-b4a2-f29e106737c3",
   "metadata": {},
   "outputs": [
    {
     "data": {
      "text/plain": [
       "'FOUNDATIONS OF DATA ENGINEERING'"
      ]
     },
     "execution_count": 76,
     "metadata": {},
     "output_type": "execute_result"
    }
   ],
   "source": [
    "topic.replace(\"SCIENCE\", 'ENGINEERING')"
   ]
  },
  {
   "cell_type": "code",
   "execution_count": 77,
   "id": "80a02c7d-1916-4aee-888f-5a4eeefe16ea",
   "metadata": {},
   "outputs": [
    {
     "name": "stdout",
     "output_type": "stream",
     "text": [
      "1.6176470588235294\n"
     ]
    }
   ],
   "source": [
    "print(55/34)"
   ]
  },
  {
   "cell_type": "code",
   "execution_count": 78,
   "id": "4625f66b-1409-4895-8569-99781514c68a",
   "metadata": {},
   "outputs": [],
   "source": [
    "golden_ratio = 55/34"
   ]
  },
  {
   "cell_type": "code",
   "execution_count": 79,
   "id": "2646013d-b025-4ac6-844d-ebeec8f11892",
   "metadata": {},
   "outputs": [
    {
     "name": "stdout",
     "output_type": "stream",
     "text": [
      "<class 'float'>\n"
     ]
    }
   ],
   "source": [
    "print(type(golden_ratio))"
   ]
  },
  {
   "cell_type": "code",
   "execution_count": 80,
   "id": "c2429394-4524-4327-9894-30faaf52a893",
   "metadata": {},
   "outputs": [
    {
     "name": "stdout",
     "output_type": "stream",
     "text": [
      "False\n"
     ]
    }
   ],
   "source": [
    "print(golden_ratio.is_integer())"
   ]
  },
  {
   "cell_type": "code",
   "execution_count": 81,
   "id": "0f34872f-b6c0-4d55-8e19-b0d8af876d8e",
   "metadata": {},
   "outputs": [
    {
     "name": "stdout",
     "output_type": "stream",
     "text": [
      "(3642617345667313, 2251799813685248)\n"
     ]
    }
   ],
   "source": [
    "print(golden_ratio.as_integer_ratio())"
   ]
  },
  {
   "cell_type": "code",
   "execution_count": 82,
   "id": "dd4ce9f4-b449-468b-ad8f-89d90590085d",
   "metadata": {},
   "outputs": [
    {
     "name": "stdout",
     "output_type": "stream",
     "text": [
      "1.6176470588235294\n"
     ]
    }
   ],
   "source": [
    "print(3642617345667313/2251799813685248)"
   ]
  },
  {
   "cell_type": "code",
   "execution_count": 83,
   "id": "dfdbd990-1627-4b8e-9c64-c09fa7cb39d1",
   "metadata": {},
   "outputs": [
    {
     "name": "stdout",
     "output_type": "stream",
     "text": [
      "1 1.6176470588235294\n"
     ]
    }
   ],
   "source": [
    "print(55//34, 55/34)"
   ]
  },
  {
   "cell_type": "code",
   "execution_count": 85,
   "id": "a948cb47-937e-444c-a0f1-dd2ed9537aa3",
   "metadata": {},
   "outputs": [
    {
     "name": "stdout",
     "output_type": "stream",
     "text": [
      "21\n"
     ]
    }
   ],
   "source": [
    "print(55%34)"
   ]
  },
  {
   "cell_type": "code",
   "execution_count": 88,
   "id": "b0b2759f-7a95-42d3-b41b-95c960ad7c25",
   "metadata": {},
   "outputs": [
    {
     "name": "stdout",
     "output_type": "stream",
     "text": [
      "8\n"
     ]
    }
   ],
   "source": [
    "print(2**3)"
   ]
  },
  {
   "cell_type": "markdown",
   "id": "32a33029-4328-40d0-a493-6536de56226c",
   "metadata": {},
   "source": [
    "# If, For, While Blocks"
   ]
  },
  {
   "cell_type": "code",
   "execution_count": 99,
   "id": "76f80a97-d746-478f-aa1d-379fb20d026c",
   "metadata": {},
   "outputs": [],
   "source": [
    "hours_per_week = 5"
   ]
  },
  {
   "cell_type": "code",
   "execution_count": 96,
   "id": "106879da-0b53-4e05-ba21-4c875e041868",
   "metadata": {},
   "outputs": [
    {
     "name": "stdout",
     "output_type": "stream",
     "text": [
      "Bhaswata Choudhury you are doing well\n"
     ]
    }
   ],
   "source": [
    "if hours_per_week > 10:\n",
    "    print(my_name + \" you are doing well\")"
   ]
  },
  {
   "cell_type": "code",
   "execution_count": 97,
   "id": "89831a7b-6031-46f2-a241-da85e38719d4",
   "metadata": {},
   "outputs": [
    {
     "name": "stdout",
     "output_type": "stream",
     "text": [
      "Bhaswata Choudhury you are doing well\n",
      "Outside IF\n"
     ]
    }
   ],
   "source": [
    "if hours_per_week > 10:\n",
    "    print(my_name + \" you are doing well\")\n",
    "print(\"Outside IF\")"
   ]
  },
  {
   "cell_type": "code",
   "execution_count": 100,
   "id": "aacdd7f1-4369-45be-8209-fd98112177f7",
   "metadata": {},
   "outputs": [
    {
     "name": "stdout",
     "output_type": "stream",
     "text": [
      "Bhaswata Choudhury you need to study more\n"
     ]
    }
   ],
   "source": [
    "if hours_per_week > 10:\n",
    "    print(my_name + \" you are doing well\")\n",
    "else:\n",
    "    print(my_name + \" you need to study more\")"
   ]
  },
  {
   "cell_type": "code",
   "execution_count": 102,
   "id": "42ad56bb-c11b-44b8-96ae-ca2c53ddd35a",
   "metadata": {},
   "outputs": [
    {
     "name": "stdout",
     "output_type": "stream",
     "text": [
      "0\n",
      "1\n",
      "2\n",
      "3\n",
      "4\n"
     ]
    }
   ],
   "source": [
    "for i in range(5):\n",
    "    print(i)"
   ]
  },
  {
   "cell_type": "code",
   "execution_count": 103,
   "id": "7bb79378-bc69-4dfb-90eb-3a5cee6b1400",
   "metadata": {},
   "outputs": [
    {
     "data": {
      "text/plain": [
       "\u001b[1;31mInit signature:\u001b[0m \u001b[0mrange\u001b[0m\u001b[1;33m(\u001b[0m\u001b[0mself\u001b[0m\u001b[1;33m,\u001b[0m \u001b[1;33m/\u001b[0m\u001b[1;33m,\u001b[0m \u001b[1;33m*\u001b[0m\u001b[0margs\u001b[0m\u001b[1;33m,\u001b[0m \u001b[1;33m**\u001b[0m\u001b[0mkwargs\u001b[0m\u001b[1;33m)\u001b[0m\u001b[1;33m\u001b[0m\u001b[1;33m\u001b[0m\u001b[0m\n",
       "\u001b[1;31mDocstring:\u001b[0m     \n",
       "range(stop) -> range object\n",
       "range(start, stop[, step]) -> range object\n",
       "\n",
       "Return an object that produces a sequence of integers from start (inclusive)\n",
       "to stop (exclusive) by step.  range(i, j) produces i, i+1, i+2, ..., j-1.\n",
       "start defaults to 0, and stop is omitted!  range(4) produces 0, 1, 2, 3.\n",
       "These are exactly the valid indices for a list of 4 elements.\n",
       "When step is given, it specifies the increment (or decrement).\n",
       "\u001b[1;31mType:\u001b[0m           type\n",
       "\u001b[1;31mSubclasses:\u001b[0m     \n"
      ]
     },
     "metadata": {},
     "output_type": "display_data"
    }
   ],
   "source": [
    "range?"
   ]
  },
  {
   "cell_type": "code",
   "execution_count": 104,
   "id": "ecd11c4e-6c9c-466f-ac82-eeab89dc4ce7",
   "metadata": {},
   "outputs": [
    {
     "name": "stdout",
     "output_type": "stream",
     "text": [
      "2 4\n",
      "3 9\n",
      "4 16\n"
     ]
    }
   ],
   "source": [
    "for i in range(2,5):\n",
    "    print(i, i**2)"
   ]
  },
  {
   "cell_type": "code",
   "execution_count": 110,
   "id": "2a0ee6a6-101d-4650-9f2f-249530a8a9de",
   "metadata": {},
   "outputs": [
    {
     "name": "stdout",
     "output_type": "stream",
     "text": [
      "2\n",
      "3\n",
      "5\n",
      "8\n",
      "13\n",
      "21\n",
      "34\n",
      "55\n",
      "89\n",
      "144\n"
     ]
    }
   ],
   "source": [
    "#fibbonacci sequence\n",
    "a = 1\n",
    "b = 1\n",
    "for i in range(10):\n",
    "    temp = a+b\n",
    "    a = b\n",
    "    b = temp\n",
    "    print(temp)"
   ]
  },
  {
   "cell_type": "code",
   "execution_count": 114,
   "id": "4c04f916-bb5a-488f-9ba7-509bd3822de9",
   "metadata": {},
   "outputs": [
    {
     "name": "stdout",
     "output_type": "stream",
     "text": [
      "2\n",
      "3\n",
      "5\n",
      "8\n",
      "13\n",
      "21\n",
      "34\n",
      "55\n",
      "89\n",
      "144\n",
      "233\n",
      "377\n",
      "610\n",
      "printed 15 numbers\n"
     ]
    }
   ],
   "source": [
    "a = 1\n",
    "b = 1\n",
    "i = 2\n",
    "while b < 500:\n",
    "    i +=1\n",
    "    temp = a+b\n",
    "    a = b\n",
    "    b = temp\n",
    "    print(temp)\n",
    "print(\"printed \" + str(i) + \" numbers\")"
   ]
  },
  {
   "cell_type": "markdown",
   "id": "e7a3e7de-f11c-43c2-8fd2-be4528bef829",
   "metadata": {},
   "source": [
    "# Functions"
   ]
  },
  {
   "cell_type": "code",
   "execution_count": 115,
   "id": "9dc91d09-12ae-4720-a830-589c18c66b91",
   "metadata": {},
   "outputs": [],
   "source": [
    "def fibonacci(pos):\n",
    "    a = 1\n",
    "    b = 1\n",
    "    for i in range(pos):\n",
    "        temp = a+b\n",
    "        a = b\n",
    "        b = temp\n",
    "    return temp"
   ]
  },
  {
   "cell_type": "code",
   "execution_count": 117,
   "id": "e07dd716-d54c-4f01-9002-9e96c0a37854",
   "metadata": {},
   "outputs": [
    {
     "name": "stdout",
     "output_type": "stream",
     "text": [
      "5\n"
     ]
    }
   ],
   "source": [
    "print(fibonacci(3))"
   ]
  },
  {
   "cell_type": "code",
   "execution_count": 118,
   "id": "ea4df3fb-d89d-465c-9cdb-fb230ae2351a",
   "metadata": {},
   "outputs": [
    {
     "name": "stdout",
     "output_type": "stream",
     "text": [
      "55 34\n"
     ]
    }
   ],
   "source": [
    "print(fibonacci(8), fibonacci(7))"
   ]
  },
  {
   "cell_type": "code",
   "execution_count": 121,
   "id": "774c22dc-7f0b-4801-a302-1a04474730cf",
   "metadata": {},
   "outputs": [
    {
     "name": "stdout",
     "output_type": "stream",
     "text": [
      "2 1.5\n",
      "3 1.6666666666666667\n",
      "4 1.6\n",
      "5 1.625\n",
      "6 1.6153846153846154\n",
      "7 1.619047619047619\n",
      "8 1.6176470588235294\n",
      "9 1.6181818181818182\n",
      "10 1.6179775280898876\n",
      "11 1.6180555555555556\n",
      "12 1.6180257510729614\n",
      "13 1.6180371352785146\n",
      "14 1.618032786885246\n",
      "15 1.618034447821682\n",
      "16 1.6180338134001253\n",
      "17 1.618034055727554\n",
      "18 1.6180339631667064\n",
      "19 1.6180339985218033\n"
     ]
    }
   ],
   "source": [
    "for i in range(2,20):\n",
    "    ratio = fibonacci(i)/ fibonacci(i-1)\n",
    "    print(i, ratio)"
   ]
  },
  {
   "cell_type": "code",
   "execution_count": 123,
   "id": "81588170-9178-4c60-a2e6-709f5c33b999",
   "metadata": {},
   "outputs": [],
   "source": [
    "def fibonacci_relative(pos, a,b):\n",
    "    for i in range(pos):\n",
    "        temp = a+b\n",
    "        a = b\n",
    "        b = temp\n",
    "    return temp"
   ]
  },
  {
   "cell_type": "code",
   "execution_count": 125,
   "id": "cbb3e2d2-7f19-4f00-878f-95029374de3f",
   "metadata": {},
   "outputs": [
    {
     "data": {
      "text/plain": [
       "233"
      ]
     },
     "execution_count": 125,
     "metadata": {},
     "output_type": "execute_result"
    }
   ],
   "source": [
    "fibonacci_relative(3, 34,55)"
   ]
  },
  {
   "cell_type": "code",
   "execution_count": 126,
   "id": "2842c966-7463-4bb5-bc00-a6fd48768d3a",
   "metadata": {},
   "outputs": [],
   "source": [
    "def fibonacci_ol(pos, a = 1,b = 1):\n",
    "    for i in range(pos):\n",
    "        temp = a+b\n",
    "        a = b\n",
    "        b = temp\n",
    "    return temp"
   ]
  },
  {
   "cell_type": "code",
   "execution_count": 127,
   "id": "717a1a09-dad2-4ca6-865d-906f746bf279",
   "metadata": {},
   "outputs": [
    {
     "data": {
      "text/plain": [
       "13"
      ]
     },
     "execution_count": 127,
     "metadata": {},
     "output_type": "execute_result"
    }
   ],
   "source": [
    "fibonacci_ol(5)"
   ]
  },
  {
   "cell_type": "code",
   "execution_count": 128,
   "id": "63dbdc3e-feaf-459c-a8a9-2da5cc93f146",
   "metadata": {},
   "outputs": [],
   "source": [
    "def fibonacci_recursive(n, a=1, b=1):\n",
    "    if n>1:\n",
    "        return fibonacci_recursive(n-1, b, a+b)\n",
    "    else:\n",
    "        return a+b\n"
   ]
  },
  {
   "cell_type": "code",
   "execution_count": 129,
   "id": "10d91218-9be8-4b3f-b36d-4cbd20f8d243",
   "metadata": {},
   "outputs": [
    {
     "name": "stdout",
     "output_type": "stream",
     "text": [
      "5\n"
     ]
    }
   ],
   "source": [
    "print(fibonacci_recursive(3))"
   ]
  }
 ],
 "metadata": {
  "kernelspec": {
   "display_name": "Python 3 (ipykernel)",
   "language": "python",
   "name": "python3"
  },
  "language_info": {
   "codemirror_mode": {
    "name": "ipython",
    "version": 3
   },
   "file_extension": ".py",
   "mimetype": "text/x-python",
   "name": "python",
   "nbconvert_exporter": "python",
   "pygments_lexer": "ipython3",
   "version": "3.8.15"
  }
 },
 "nbformat": 4,
 "nbformat_minor": 5
}
